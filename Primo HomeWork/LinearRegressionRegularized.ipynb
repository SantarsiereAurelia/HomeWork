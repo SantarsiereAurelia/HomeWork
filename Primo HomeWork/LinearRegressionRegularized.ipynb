{
 "cells": [
  {
   "cell_type": "code",
   "execution_count": 130,
   "id": "98f9c13a-8d99-493b-b523-88944d8b642f",
   "metadata": {},
   "outputs": [],
   "source": [
    "import numpy as np\n",
    "import pandas as pd\n",
    "import math"
   ]
  },
  {
   "cell_type": "code",
   "execution_count": 131,
   "id": "233e0822-d66e-4cc8-9cec-b2011220bb53",
   "metadata": {},
   "outputs": [],
   "source": [
    "#acquisisco i dati\n",
    "data = pd.read_csv('studentmat.csv')"
   ]
  },
  {
   "cell_type": "code",
   "execution_count": 132,
   "id": "f4c5378f-27c4-45b3-bba2-86495e62a8da",
   "metadata": {},
   "outputs": [],
   "source": [
    "#converto i dati in un ndarray per manipolarli\n",
    "data = np.array(data)\n",
    "data = np.hstack((np.ones((data.shape[0],1)),data))"
   ]
  },
  {
   "cell_type": "code",
   "execution_count": 133,
   "id": "95d9d02a-daab-4847-a345-3af7d4988e66",
   "metadata": {},
   "outputs": [],
   "source": [
    "#genero le features\n",
    "X = data[:, 0:30]\n",
    "Y = data[:, 32]"
   ]
  },
  {
   "cell_type": "code",
   "execution_count": 134,
   "id": "5314d00f-9088-40c6-96b7-9989c3669853",
   "metadata": {},
   "outputs": [],
   "source": [
    "Y=Y.reshape(len(X),1)"
   ]
  },
  {
   "cell_type": "code",
   "execution_count": 135,
   "id": "31c195ba-5cd6-4ff6-91be-5b40227049e5",
   "metadata": {},
   "outputs": [],
   "source": [
    "#featureNormalization\n",
    "X = X/(np.max(X))"
   ]
  },
  {
   "cell_type": "code",
   "execution_count": 136,
   "id": "697019b5-a001-414f-ab51-45756f7b8bc4",
   "metadata": {},
   "outputs": [],
   "source": [
    "#inizializzo i dati\n",
    "theta=np.ones((X.shape[1],1),dtype=float)"
   ]
  },
  {
   "cell_type": "code",
   "execution_count": 137,
   "id": "68b86232-df3d-4c0d-a790-dbd0675b7223",
   "metadata": {},
   "outputs": [],
   "source": [
    "alpha=0.01\n",
    "iters = 500\n",
    "lambbda = 100"
   ]
  },
  {
   "cell_type": "code",
   "execution_count": 138,
   "id": "931a2ca9-4d8f-4f90-938a-d06bb4243ebe",
   "metadata": {},
   "outputs": [],
   "source": [
    "#definizione della costFunction e gradientDescent\n",
    "def costFunction(X,Y,theta,lambbda):\n",
    "    m = Y.size\n",
    "    h = np.dot(X,theta)\n",
    "    cost = (h-Y)**2\n",
    "    thetaExcludingZero = theta\n",
    "    thetaExcludingZero[1] = 0\n",
    "    J = (1/(2*m)) * sum(cost) + (lambbda/(2*m))* sum(thetaExcludingZero**2)\n",
    "    grad =(1/m)*np.dot(np.transpose(X),(h-Y))\n",
    "    return J"
   ]
  },
  {
   "cell_type": "code",
   "execution_count": 139,
   "id": "a9c112d5-70ae-48fa-858c-5e0afd06a783",
   "metadata": {},
   "outputs": [],
   "source": [
    "def gradientDescent(X, Y, theta, alpha, iters,lambbda):\n",
    "    m = Y.size\n",
    "    J_history = np.zeros(iters)\n",
    "    alpham= alpha/m\n",
    "    for i in range(iters):\n",
    "        h = np.dot(X,theta)\n",
    "        theta = theta*(1-(alpham*lambbda))-(alpham)* np.dot(np.transpose(X), (h-Y))\n",
    "        J_history[i] =costFunction(X,Y,theta,lambbda)\n",
    "    return theta,J_history"
   ]
  },
  {
   "cell_type": "code",
   "execution_count": 140,
   "id": "17dc7ada-46be-423d-b538-84de6b02cc4b",
   "metadata": {},
   "outputs": [],
   "source": [
    "def linearRegression(X,Y,alpha,iters, theta,lambbda):\n",
    "    J = costFunction(X,Y,theta,lambbda)\n",
    "    theta_final, J_history=gradientDescent(X,Y,theta,alpha,iters,lambbda)\n",
    "    return theta_final"
   ]
  },
  {
   "cell_type": "code",
   "execution_count": 141,
   "id": "aa7af0ec-b7d3-468a-8a43-45a4e03a125b",
   "metadata": {},
   "outputs": [],
   "source": [
    "theta_final = linearRegression(X,Y,alpha,iters,theta,lambbda)"
   ]
  },
  {
   "cell_type": "code",
   "execution_count": 142,
   "id": "83a68956-c8c6-4112-890c-d3432149c5f6",
   "metadata": {},
   "outputs": [
    {
     "name": "stdout",
     "output_type": "stream",
     "text": [
      "[[0.717092  ]\n",
      " [0.        ]\n",
      " [0.49156555]\n",
      " [7.40694453]\n",
      " [0.64704767]\n",
      " [0.4232244 ]\n",
      " [0.66522137]\n",
      " [1.57897868]\n",
      " [1.45329631]\n",
      " [1.13126318]\n",
      " [0.94924817]\n",
      " [1.06883539]\n",
      " [0.99498151]\n",
      " [0.85828255]\n",
      " [1.22157382]\n",
      " [0.29006556]\n",
      " [0.32292675]\n",
      " [0.53379356]\n",
      " [0.50442505]\n",
      " [0.51395822]\n",
      " [0.64030618]\n",
      " [0.71557589]\n",
      " [0.66459661]\n",
      " [0.39696753]\n",
      " [1.97813771]\n",
      " [1.66669023]\n",
      " [1.5186752 ]\n",
      " [0.87946048]\n",
      " [1.19796974]\n",
      " [1.7444076 ]]\n"
     ]
    }
   ],
   "source": [
    "print(theta_final)"
   ]
  },
  {
   "cell_type": "code",
   "execution_count": null,
   "id": "d64300f3-d4c9-4dc6-8b4b-4d41c68df43a",
   "metadata": {},
   "outputs": [],
   "source": [
    "#predict mancante"
   ]
  }
 ],
 "metadata": {
  "kernelspec": {
   "display_name": "Python 3",
   "language": "python",
   "name": "python3"
  },
  "language_info": {
   "codemirror_mode": {
    "name": "ipython",
    "version": 3
   },
   "file_extension": ".py",
   "mimetype": "text/x-python",
   "name": "python",
   "nbconvert_exporter": "python",
   "pygments_lexer": "ipython3",
   "version": "3.8.8"
  }
 },
 "nbformat": 4,
 "nbformat_minor": 5
}
